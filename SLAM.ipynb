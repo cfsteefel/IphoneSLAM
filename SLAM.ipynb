{
 "cells": [
  {
   "cell_type": "code",
   "execution_count": 1,
   "metadata": {
    "collapsed": false
   },
   "outputs": [],
   "source": [
    "import numpy as np\n",
    "import matplotlib.pyplot as plt\n",
    "import matplotlib.image as mpimg\n",
    "import time\n",
    "import numpy.linalg as linalg\n",
    "import cv2\n",
    "assert cv2.__version__ == \"3.2.0\"\n",
    "import random\n",
    "orb = cv2.ORB_create()\n",
    "N = 100\n",
    "s = 8"
   ]
  },
  {
   "cell_type": "code",
   "execution_count": 3,
   "metadata": {
    "collapsed": false
   },
   "outputs": [],
   "source": [
    "#function for computing the fundamental matrix\n",
    "def computeF(xl, xr):\n",
    "    A = []\n",
    "    for i in xrange(len(xl)):\n",
    "        x = xl[i]\n",
    "        x_prime = xr[i]\n",
    "        #Put a row into the matrix, with formula fropm class.\n",
    "        A.append([x[0]*x_prime[0], x[1]*x_prime[0], x_prime[0],\n",
    "                  x[0]*x_prime[1], x[1]*x_prime[1], x_prime[1], x[0], x[1], 1])\n",
    "    #Get actual fundamental matrix.\n",
    "    A = np.array(A)\n",
    "    _, _, V = linalg.svd(A)\n",
    "    F = V[-1,:].reshape((3,3))\n",
    "    U, s, V = linalg.svd(F)\n",
    "    sigma = np.diag(s)\n",
    "    sigma[2,2] = 0\n",
    "    return np.matmul(U, np.matmul(sigma, V))\n",
    "    \n",
    "def ransacF(points, kp1, kp2):\n",
    "    n = 0 \n",
    "    currF = None\n",
    "    maxInliers = 0\n",
    "    # run ransac\n",
    "    for n in xrange(N):\n",
    "        sampledMatches = random.sample(points, s)\n",
    "        leftPoints = [kp1[point.queryIdx] for point in sample]\n",
    "        rightPoints = [kp2[point.trainIdx] for point in sample]\n",
    "        # compute our F matrix\n",
    "        FToTest = computeF(leftPoints, rightPoints)\n",
    "        numIn = 0\n",
    "        for match in points:\n",
    "            p = kp1[match.queryIdx].pt\n",
    "            q = kp1[match.trainIdx].pt\n",
    "            if (abs(np.matmul([p[0], p[1], 1], np.matmul(FToTest, [q[0], q[1], 1])))) < .01:\n",
    "                numIn += 1\n",
    "        if numIn > maxInliers:\n",
    "            maxInliers = numIn\n",
    "            currF = FToTest\n",
    "    return currF"
   ]
  },
  {
   "cell_type": "code",
   "execution_count": 2,
   "metadata": {
    "collapsed": true
   },
   "outputs": [],
   "source": [
    "# K = TODO\n",
    "K = np.eye(3)\n",
    "K_prime = np.transpose(K)\n",
    "W = np.matrix([[0, -1, 0], [1, 0, 0], [0, 0, 1]])\n",
    "negW = np.transpose(W)\n",
    "Z = np.matrix([[0, 1, 0], [-1, 0, 0], [0, 0, 0]])\n",
    "trans = np.transpose\n",
    "svd = linalg.svd\n",
    "matmul = np.matmul\n",
    "location = np.array([0, 0, 0, 0])\n",
    "def findPointsFront(points, R, t):\n",
    "    # TODO find number of points in front of both cameras\n",
    "    pass\n",
    "\n",
    "def updateLoc(F, points):\n",
    "    # TODO\n",
    "    # Need to find K for the camera\n",
    "    E = matmul(K, matmul(F, K_prime))\n",
    "    # https://en.wikipedia.org/wiki/Essential_matrix\n",
    "    U, sigma, Vt = svd()\n",
    "    t_mat = matmul(U, matmul(Z, trans(U)))\n",
    "    RNeg = matmul(U, matmul(negW, Vt))\n",
    "    RPos = matmul(U, matmul(W, Vt))\n",
    "    opt = 0\n",
    "    t = np.null(t_mat)\n",
    "    neg_t = -1 * t\n",
    "    # There are four valid comboes, we need to find the one with points in front of image\n",
    "    # can probably parallelize this? should profile to see if worth\n",
    "    numPoints1 = findPointsFront(points, RNeg, neg_t)\n",
    "    numPoints2 = findPointsFront(points, RNeg, t)\n",
    "    numPoints3 = findPointsFront(points, RPos, neg_t)\n",
    "    numPoints4 = findPointsFront(points, RPos, t)\n",
    "    whichNum = np.argmax([numPoints1, numPoints2, numPoints3, numPoints4])\n",
    "    if whichNum == 0:\n",
    "        motion = np.hstack(RNeg, neg_t)\n",
    "        motion = np.vstack(motion, np.array([0, 0, 0, 1])\n",
    "    if whichNum == 1: \n",
    "        motion = np.hstack(RNeg, t)\n",
    "        motion = np.vstack(motion, np.array([0, 0, 0, 1])\n",
    "    if whichNum == 2:\n",
    "        motion = np.hstack(RPos, neg_t)\n",
    "        motion = np.vstack(motion, np.array([0, 0, 0, 1])\n",
    "    if whichNum == 3:\n",
    "        motion = np.hstack(RPos, t)\n",
    "        motion = np.vstack(motion, np.array([0, 0, 0, 1])\n",
    "    location = np.dot(motion, location)"
   ]
  },
  {
   "cell_type": "code",
   "execution_count": null,
   "metadata": {
    "collapsed": false
   },
   "outputs": [],
   "source": [
    "cap = cv2.VideoCapture('motion.mp4')\n",
    "i = 0\n",
    "last = None\n",
    "lastDes = None\n",
    "lastIm = None\n",
    "while cap.isOpened():\n",
    "    i += 1\n",
    "    \n",
    "    ret, frame = cap.read()\n",
    "    if i % 10 != 0:\n",
    "        continue\n",
    "    if ret == False:\n",
    "        break\n",
    "    grayImg = cv2.cvtColor(frame, cv2.COLOR_BGR2GRAY)\n",
    "    kp, des = orb.detectAndCompute(grayImg, None)\n",
    "    \n",
    "    if last == None:\n",
    "        last = kp\n",
    "        lastDes = des\n",
    "        lastIm = grayImg\n",
    "        continue\n",
    "    \n",
    "    # BFMatcher with default params\n",
    "    bf = cv2.BFMatcher()\n",
    "    matches = bf.knnMatch(lastDes, des, k=2)\n",
    "    # Apply ratio test\n",
    "    good = []\n",
    "    for m,n in matches:\n",
    "        if m.distance < 0.75*n.distance:\n",
    "            good.append(m)\n",
    "    F = ransacF(good, lastDes, des)\n",
    "    updateLoc(F, good)\n",
    "    last = kp\n",
    "    lastDes = des\n",
    "    \n",
    "    \n"
   ]
  },
  {
   "cell_type": "code",
   "execution_count": null,
   "metadata": {
    "collapsed": true
   },
   "outputs": [],
   "source": []
  },
  {
   "cell_type": "code",
   "execution_count": null,
   "metadata": {
    "collapsed": true
   },
   "outputs": [],
   "source": []
  }
 ],
 "metadata": {
  "kernelspec": {
   "display_name": "Python 2",
   "language": "python",
   "name": "python2"
  },
  "language_info": {
   "codemirror_mode": {
    "name": "ipython",
    "version": 2
   },
   "file_extension": ".py",
   "mimetype": "text/x-python",
   "name": "python",
   "nbconvert_exporter": "python",
   "pygments_lexer": "ipython2",
   "version": "2.7.13"
  }
 },
 "nbformat": 4,
 "nbformat_minor": 0
}
