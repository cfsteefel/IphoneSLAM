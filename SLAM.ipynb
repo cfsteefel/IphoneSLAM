{
 "cells": [
  {
   "cell_type": "code",
   "execution_count": 2,
   "metadata": {
    "collapsed": false
   },
   "outputs": [],
   "source": [
    "import numpy as np\n",
    "#%matplotlib inline\n",
    "import matplotlib.pyplot as plt\n",
    "import matplotlib.image as mpimg\n",
    "import time\n",
    "import numpy.linalg as linalg\n",
    "import cv2\n",
    "import time\n",
    "assert cv2.__version__ == \"3.2.0\"\n",
    "orb = cv2.ORB_create()\n"
   ]
  },
  {
   "cell_type": "code",
   "execution_count": 3,
   "metadata": {
    "collapsed": false
   },
   "outputs": [],
   "source": [
    "#function for computing the fundamental matrix\n",
    "def computeF(xl, xr):\n",
    "    A = []\n",
    "    for i in xrange(len(xl)):\n",
    "        x = xl[i]\n",
    "        x_prime = xr[i]\n",
    "        #Put a row into the matrix, with formula fropm class.\n",
    "        A.append([x[0]*x_prime[0], x[1]*x_prime[0], x_prime[0],\n",
    "                  x[0]*x_prime[1], x[1]*x_prime[1], x_prime[1], x[0], x[1], 1])\n",
    "    #Get actual fundamental matrix.\n",
    "    A = np.array(A)\n",
    "    _, _, V = linalg.svd(A)\n",
    "    F = V[-1,:].reshape((3,3))\n",
    "    U, s, V = linalg.svd(F)\n",
    "    sigma = np.diag(s)\n",
    "    sigma[2,2] = 0\n",
    "    return np.matmul(U, np.matmul(sigma, V))\n",
    "    \n",
    "        "
   ]
  },
  {
   "cell_type": "code",
   "execution_count": null,
   "metadata": {
    "collapsed": false
   },
   "outputs": [],
   "source": [
    "cap = cv2.VideoCapture('motion.mp4')\n",
    "i = 0\n",
    "last = None\n",
    "lastDes = None\n",
    "lastIm = None\n",
    "while cap.isOpened():\n",
    "    i += 1\n",
    "    \n",
    "    ret, frame = cap.read()\n",
    "    if i % 10 != 0:\n",
    "        continue\n",
    "    if ret == False:\n",
    "        break\n",
    "    grayImg = cv2.cvtColor(frame, cv2.COLOR_BGR2GRAY)\n",
    "    kp, des = orb.detectAndCompute(grayImg, None)\n",
    "    \n",
    "    if last == None:\n",
    "        last = kp\n",
    "        lastDes = des\n",
    "        lastIm = grayImg\n",
    "        continue\n",
    "    \n",
    "    # BFMatcher with default params\n",
    "    bf = cv2.BFMatcher()\n",
    "    matches = bf.knnMatch(lastDes, des, k=2)\n",
    "    # Apply ratio test\n",
    "    good = []\n",
    "    for m,n in matches:\n",
    "        if m.distance < 0.75*n.distance:\n",
    "            good.append([m])\n",
    "    # cv2.drawMatchesKnn expects list of lists as matches.\n",
    "    #img3 = cv2.drawMatchesKnn(lastIm,last,grayImg,kp,good, None, flags=2)\n",
    "    \n",
    "    last = kp\n",
    "    lastDes = des\n",
    "    \n",
    "    time.sleep(.25)\n"
   ]
  },
  {
   "cell_type": "code",
   "execution_count": null,
   "metadata": {
    "collapsed": true
   },
   "outputs": [],
   "source": []
  },
  {
   "cell_type": "code",
   "execution_count": null,
   "metadata": {
    "collapsed": true
   },
   "outputs": [],
   "source": []
  }
 ],
 "metadata": {
  "kernelspec": {
   "display_name": "Python 2",
   "language": "python",
   "name": "python2"
  },
  "language_info": {
   "codemirror_mode": {
    "name": "ipython",
    "version": 2
   },
   "file_extension": ".py",
   "mimetype": "text/x-python",
   "name": "python",
   "nbconvert_exporter": "python",
   "pygments_lexer": "ipython2",
   "version": "2.7.13"
  }
 },
 "nbformat": 4,
 "nbformat_minor": 0
}
