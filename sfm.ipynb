{
 "cells": [
  {
   "cell_type": "code",
   "execution_count": 1,
   "metadata": {
    "collapsed": true
   },
   "outputs": [],
   "source": [
    "import numpy as np\n",
    "import matplotlib.pyplot as plt\n",
    "import matplotlib.image as mpimg\n",
    "import time\n",
    "import numpy.linalg as linalg\n",
    "import cv2\n",
    "import random\n",
    "from mpl_toolkits.mplot3d import Axes3D\n",
    "from multiprocessing import Queue, Process\n",
    "%matplotlib notebook\n",
    "orb = cv2.ORB_create()\n",
    "N = 200\n",
    "s = 8\n",
    "random.seed(0xDEADBEEF)"
   ]
  },
  {
   "cell_type": "code",
   "execution_count": 2,
   "metadata": {
    "collapsed": true
   },
   "outputs": [],
   "source": [
    "#function for computing the fundamental matrix\n",
    "def computeF(xl, xr):\n",
    "    A = []\n",
    "    for i in range(len(xl)):\n",
    "        x = xl[i]\n",
    "        x_prime = xr[i]\n",
    "        #Put a row into the matrix, with formula fropm class.\n",
    "        A.append([x[0]*x_prime[0], x[1]*x_prime[0], x_prime[0],\n",
    "                  x[0]*x_prime[1], x[1]*x_prime[1], x_prime[1], x[0], x[1], 1])\n",
    "    #Get actual fundamental matrix.\n",
    "    A = np.array(A)\n",
    "    _, _, V = linalg.svd(A)\n",
    "    F = V[-1,:].reshape((3,3))\n",
    "    U, s, V = linalg.svd(F)\n",
    "    sigma = np.diag(s)\n",
    "    sigma[2,2] = 0\n",
    "    return np.matmul(U, np.matmul(sigma, V))\n",
    "    \n",
    "def ransacF(points, kp1, kp2):\n",
    "    n = 0 \n",
    "    currF = None\n",
    "    maxInliers = 0\n",
    "    # run ransac\n",
    "    for n in range(N):\n",
    "        sample = random.sample(points, s)\n",
    "        leftPoints = [kp1[point.trainIdx].pt for point in sample]\n",
    "        rightPoints = [kp2[point.queryIdx].pt for point in sample]\n",
    "        # compute our F matrix\n",
    "        FToTest = computeF(leftPoints, rightPoints)\n",
    "        numIn = 0\n",
    "        for match in points:\n",
    "            p = kp1[match.trainIdx].pt\n",
    "            q = kp2[match.queryIdx].pt\n",
    "            if (abs(np.matmul([p[0], p[1], 1], np.matmul(FToTest, [q[0], q[1], 1])))) < .01:\n",
    "                numIn += 1\n",
    "        if currF is None:\n",
    "            currF = FToTest\n",
    "        if numIn > maxInliers:\n",
    "            maxInliers = numIn\n",
    "            currF = FToTest\n",
    "    return currF"
   ]
  },
  {
   "cell_type": "code",
   "execution_count": 3,
   "metadata": {
    "collapsed": true
   },
   "outputs": [],
   "source": [
    "npz = np.load(\"calibrationM/matrices.npz\")\n",
    "K = npz['cameraMatrix']\n",
    "K_prime = np.transpose(K)\n",
    "W = np.matrix([[0, -1, 0], [1, 0, 0], [0, 0, 1]])\n",
    "negW = np.transpose(W)\n",
    "Winv = linalg.inv(W)\n",
    "\n",
    "Z = np.matrix([[0, 1, 0], [-1, 0, 0], [0, 0, 0]])\n",
    "trans = np.transpose\n",
    "svd = linalg.svd\n",
    "matmul = np.matmul\n",
    "location = np.reshape((np.array([[0, 0, 0, 1]])), (4, 1))\n",
    "# Compute null space of matrix A, algorithm from scipy mailing lists\n",
    "def null(A, eps=1e-15):\n",
    "    u, s, vh = linalg.svd(A)\n",
    "    null_mask = (s <= eps)\n",
    "    null_space = np.compress(null_mask, vh, axis=0)\n",
    "    return trans(null_space)\n",
    "\n",
    "def updateLoc(F, points):\n",
    "    global location\n",
    "    # Need to find K for the camera\n",
    "    E = matmul(K, matmul(F, K_prime))\n",
    "    # https://en.wikipedia.org/wiki/Essential_matrix\n",
    "    U, sigma, Vt = svd(E)\n",
    "    t_mat = matmul(U, matmul(Z, trans(U)))\n",
    "    RPos = matmul(U, matmul(Winv, Vt))\n",
    "    opt = 0\n",
    "    t = null(t_mat)\n",
    "    t = t/linalg.norm(t, ord=1)\n",
    "    motion = np.hstack([RPos, t])\n",
    "    motion = np.vstack([motion, np.array([0, 0, 0, 1])])\n",
    "    location = np.matmul(motion, location)\n",
    "    return None"
   ]
  },
  {
   "cell_type": "code",
   "execution_count": null,
   "metadata": {
    "collapsed": true
   },
   "outputs": [],
   "source": [
    "def queueFrames():\n",
    "    cap = cv2.VideoCapture(0)\n",
    "    i = 0\n",
    "    while cap.isOpened():\n",
    "        i += 1\n",
    "        ret, frame = cap.read()\n",
    "        if ret == False:\n",
    "            queueFrames.q.put(None)\n",
    "            return\n",
    "        if i % 10 != 0:\n",
    "            continue\n",
    "        if i > 300:\n",
    "            cap.release()\n",
    "            queueFrames.q.put(None)\n",
    "            return\n",
    "        grayImg = cv2.cvtColor(frame, cv2.COLOR_BGR2GRAY)\n",
    "        queueFrames.q.put(grayImg)\n",
    "        "
   ]
  },
  {
   "cell_type": "code",
   "execution_count": null,
   "metadata": {},
   "outputs": [],
   "source": [
    "last = None\n",
    "lastDes = None\n",
    "locations = []\n",
    "q = Queue()\n",
    "queueFrames.q = q\n",
    "now = time.time()\n",
    "#start reading image frames in background\n",
    "Process(target=queueFrames).start()\n",
    "while True:\n",
    "    grayImg = q.get(timeout=100)\n",
    "    if grayImg is None:\n",
    "        break\n",
    "    kp, des = orb.detectAndCompute(grayImg, None)\n",
    "    \n",
    "    if last == None:\n",
    "        last = kp\n",
    "        lastDes = des\n",
    "        continue\n",
    "    \n",
    "    # BFMatcher with default params\n",
    "    bf = cv2.BFMatcher(cv2.NORM_HAMMING, crossCheck=True)\n",
    "    matches = bf.match(lastDes, des)\n",
    "    # Apply ratio test\n",
    "    \n",
    "    F = ransacF(matches, kp, last)\n",
    "    updateLoc(F, matches)\n",
    "    locations.append(location)\n",
    "    del last\n",
    "    del lastDes\n",
    "    last = kp\n",
    "    lastDes = des\n",
    "    \n",
    "after = time.time()\n",
    "print(\"time elapsed: {0}\".format(after - now))\n",
    "fig = plt.figure()\n",
    "ax = fig.gca(projection='3d')\n",
    "ax.plot([np.reshape(location, (4,1))[0,0] for location in locations],\n",
    "       [np.reshape(location, (4,1))[1,0] for location in locations],\n",
    "       [np.reshape(location, (4,1))[2,0] for location in locations], label=\"locations\")\n",
    "plt.show()"
   ]
  },
  {
   "cell_type": "code",
   "execution_count": null,
   "metadata": {
    "collapsed": true
   },
   "outputs": [],
   "source": []
  },
  {
   "cell_type": "code",
   "execution_count": null,
   "metadata": {
    "collapsed": true
   },
   "outputs": [],
   "source": []
  }
 ],
 "metadata": {
  "kernelspec": {
   "display_name": "Python 2",
   "language": "python",
   "name": "python2"
  },
  "language_info": {
   "codemirror_mode": {
    "name": "ipython",
    "version": 2
   },
   "file_extension": ".py",
   "mimetype": "text/x-python",
   "name": "python",
   "nbconvert_exporter": "python",
   "pygments_lexer": "ipython2",
   "version": "2.7.13"
  }
 },
 "nbformat": 4,
 "nbformat_minor": 1
}
